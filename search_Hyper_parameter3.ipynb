{
 "cells": [
  {
   "cell_type": "markdown",
   "metadata": {},
   "source": [
    "# 超参数的寻找"
   ]
  },
  {
   "cell_type": "code",
   "execution_count": 1,
   "metadata": {},
   "outputs": [
    {
     "data": {
      "text/plain": [
       "0.9888888888888889"
      ]
     },
     "execution_count": 1,
     "metadata": {},
     "output_type": "execute_result"
    }
   ],
   "source": [
    "import numpy as np\n",
    "from sklearn import datasets\n",
    "# 载入 digits 数据集\n",
    "mydata = datasets.load_digits()\n",
    "X = mydata.data\n",
    "y = mydata.target\n",
    "\n",
    "# 将 数据集 分成 train data 和 test data\n",
    "from sklearn.model_selection import train_test_split\n",
    "X_train, X_test, y_train, y_test = train_test_split(X,y,test_size = 0.2,random_state = 666)\n",
    "\n",
    "#利用 sklearn.neighbors 中的 KNeighborsClassifier训练模型\n",
    "from sklearn.neighbors import KNeighborsClassifier\n",
    "sklKnnClf = KNeighborsClassifier(n_neighbors = 3)\n",
    "sklKnnClf.fit(X_train, y_train)\n",
    "y_predict = sklKnnClf.predict(X_test)\n",
    "\n",
    "# 直接用 KNeighborsClassifier 中的sorce 函数 测算正确率\n",
    "sklAccuracy = sklKnnClf.score(X_test,y_test)\n",
    "sklAccuracy"
   ]
  },
  {
   "cell_type": "markdown",
   "metadata": {},
   "source": [
    "# 1.寻找最优的超参数k"
   ]
  },
  {
   "cell_type": "code",
   "execution_count": 2,
   "metadata": {},
   "outputs": [
    {
     "name": "stdout",
     "output_type": "stream",
     "text": [
      "bestk= 4\n",
      "best_score= 0.9916666666666667\n"
     ]
    }
   ],
   "source": [
    "bestk = 0\n",
    "best_score = 0\n",
    "for k in np.arange(1,11):\n",
    "    sklKnnClf = KNeighborsClassifier(n_neighbors = k)\n",
    "    sklKnnClf.fit(X_train, y_train)\n",
    "    sklAccuracy = sklKnnClf.score(X_test,y_test)\n",
    "    if sklAccuracy > best_score:\n",
    "        bestk = k\n",
    "        best_score = sklAccuracy\n",
    "print(\"bestk=\",bestk)\n",
    "print(\"best_score=\",best_score)\n",
    "#若最后bestk 的值接近多设置搜索范围的边缘,为了使准确率更高，可以扩大搜索范围\n",
    "#eg: 若bestk = 10,则可以重新搜索 7：16 看是否有更优的k"
   ]
  },
  {
   "cell_type": "markdown",
   "metadata": {},
   "source": [
    "# 2.寻找最优的超参数weights,即是否考虑距离权重 "
   ]
  },
  {
   "cell_type": "code",
   "execution_count": 3,
   "metadata": {},
   "outputs": [
    {
     "name": "stdout",
     "output_type": "stream",
     "text": [
      "best_weight= uniform\n",
      "bestk= 4\n",
      "best_score= 0.9916666666666667\n"
     ]
    }
   ],
   "source": [
    "myweights = ['uniform','distance']\n",
    "best_weight = ''\n",
    "bestk = 0\n",
    "best_score = 0\n",
    "for myweight in myweights:\n",
    "    for k in np.arange(1,11):\n",
    "        sklKnnClf = KNeighborsClassifier(n_neighbors = k,weights = myweight)\n",
    "        sklKnnClf.fit(X_train, y_train)\n",
    "        sklAccuracy = sklKnnClf.score(X_test,y_test)\n",
    "        if sklAccuracy > best_score:\n",
    "            best_weight = myweight\n",
    "            bestk = k\n",
    "            best_score = sklAccuracy\n",
    "print(\"best_weight=\",best_weight)\n",
    "print(\"bestk=\",bestk)\n",
    "print(\"best_score=\",best_score)"
   ]
  },
  {
   "cell_type": "markdown",
   "metadata": {},
   "source": [
    "# 3.寻找最优的超参数p(即 是用欧式距离，曼哈顿距离or 明可夫斯基距离)"
   ]
  },
  {
   "cell_type": "code",
   "execution_count": 4,
   "metadata": {},
   "outputs": [
    {
     "name": "stdout",
     "output_type": "stream",
     "text": [
      "bestp= 2\n",
      "bestk= 3\n",
      "best_score= 0.9888888888888889\n"
     ]
    }
   ],
   "source": [
    "# 注意，如果是寻找最有参数p， 这里weights = distance (weights 可否为 uniform？ why?)\n",
    "bestp = 0\n",
    "bestk = 0\n",
    "best_score = 0\n",
    "\n",
    "for k in np.arange(1,11):\n",
    "    for p in np.arange(1,6):\n",
    "        sklKnnClf = KNeighborsClassifier(n_neighbors = k,weights = 'distance',p = p)\n",
    "        sklKnnClf.fit(X_train, y_train)\n",
    "        sklAccuracy = sklKnnClf.score(X_test,y_test)\n",
    "        if sklAccuracy > best_score:\n",
    "            bestp = p\n",
    "            bestk = k\n",
    "            best_score = sklAccuracy\n",
    "print('bestp=',bestp)\n",
    "print(\"bestk=\",bestk)\n",
    "print(\"best_score=\",best_score)"
   ]
  },
  {
   "cell_type": "code",
   "execution_count": null,
   "metadata": {},
   "outputs": [],
   "source": []
  }
 ],
 "metadata": {
  "kernelspec": {
   "display_name": "Python 3",
   "language": "python",
   "name": "python3"
  },
  "language_info": {
   "codemirror_mode": {
    "name": "ipython",
    "version": 3
   },
   "file_extension": ".py",
   "mimetype": "text/x-python",
   "name": "python",
   "nbconvert_exporter": "python",
   "pygments_lexer": "ipython3",
   "version": "3.6.4"
  }
 },
 "nbformat": 4,
 "nbformat_minor": 2
}
