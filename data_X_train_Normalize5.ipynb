{
 "cells": [
  {
   "cell_type": "markdown",
   "metadata": {},
   "source": [
    "# 数据归一化，为什么要数据归一化？\n",
    "# 最值归一化：把数据映射到0--1之间"
   ]
  },
  {
   "cell_type": "code",
   "execution_count": 4,
   "metadata": {},
   "outputs": [
    {
     "data": {
      "text/plain": [
       "array([48, 16, 36, 27, 65,  7,  9, 60, 38, 85,  8, 53, 42, 84, 32, 61, 50,\n",
       "       13, 20, 19, 74, 46, 80, 65, 98, 74, 64, 60, 81, 92, 85, 20, 89, 86,\n",
       "       31, 96, 52, 31, 20, 74, 13, 67, 32, 73, 96, 15, 31, 89, 99, 53, 87,\n",
       "       76, 80, 48, 77, 28, 17, 37, 26, 51, 46, 86, 40, 99, 92,  0, 35, 76,\n",
       "       50, 30, 22, 52, 59, 17, 33, 99, 56, 31, 12, 42, 38, 83, 88, 99, 37,\n",
       "       34, 27, 84, 47, 74, 60, 65, 64, 60, 72, 96,  3, 52, 30, 67])"
      ]
     },
     "execution_count": 4,
     "metadata": {},
     "output_type": "execute_result"
    }
   ],
   "source": [
    "\n",
    "#对于向量\n",
    "import numpy as np\n",
    "x = np.random.randint(0,100,size = 100)\n",
    "x"
   ]
  },
  {
   "cell_type": "code",
   "execution_count": 12,
   "metadata": {},
   "outputs": [
    {
     "data": {
      "text/plain": [
       "array([0.48484848, 0.16161616, 0.36363636, 0.27272727, 0.65656566,\n",
       "       0.07070707, 0.09090909, 0.60606061, 0.38383838, 0.85858586,\n",
       "       0.08080808, 0.53535354, 0.42424242, 0.84848485, 0.32323232,\n",
       "       0.61616162, 0.50505051, 0.13131313, 0.2020202 , 0.19191919,\n",
       "       0.74747475, 0.46464646, 0.80808081, 0.65656566, 0.98989899,\n",
       "       0.74747475, 0.64646465, 0.60606061, 0.81818182, 0.92929293,\n",
       "       0.85858586, 0.2020202 , 0.8989899 , 0.86868687, 0.31313131,\n",
       "       0.96969697, 0.52525253, 0.31313131, 0.2020202 , 0.74747475,\n",
       "       0.13131313, 0.67676768, 0.32323232, 0.73737374, 0.96969697,\n",
       "       0.15151515, 0.31313131, 0.8989899 , 1.        , 0.53535354,\n",
       "       0.87878788, 0.76767677, 0.80808081, 0.48484848, 0.77777778,\n",
       "       0.28282828, 0.17171717, 0.37373737, 0.26262626, 0.51515152,\n",
       "       0.46464646, 0.86868687, 0.4040404 , 1.        , 0.92929293,\n",
       "       0.        , 0.35353535, 0.76767677, 0.50505051, 0.3030303 ,\n",
       "       0.22222222, 0.52525253, 0.5959596 , 0.17171717, 0.33333333,\n",
       "       1.        , 0.56565657, 0.31313131, 0.12121212, 0.42424242,\n",
       "       0.38383838, 0.83838384, 0.88888889, 1.        , 0.37373737,\n",
       "       0.34343434, 0.27272727, 0.84848485, 0.47474747, 0.74747475,\n",
       "       0.60606061, 0.65656566, 0.64646465, 0.60606061, 0.72727273,\n",
       "       0.96969697, 0.03030303, 0.52525253, 0.3030303 , 0.67676768])"
      ]
     },
     "execution_count": 12,
     "metadata": {},
     "output_type": "execute_result"
    }
   ],
   "source": [
    "x = (x - np.min(x))/(np.max(x)-np.min(x))\n",
    "x"
   ]
  },
  {
   "cell_type": "code",
   "execution_count": 23,
   "metadata": {},
   "outputs": [
    {
     "data": {
      "text/plain": [
       "0.5396969696969698"
      ]
     },
     "execution_count": 23,
     "metadata": {},
     "output_type": "execute_result"
    }
   ],
   "source": [
    "np.mean(x)"
   ]
  },
  {
   "cell_type": "code",
   "execution_count": 24,
   "metadata": {},
   "outputs": [
    {
     "data": {
      "text/plain": [
       "0.2774497788017998"
      ]
     },
     "execution_count": 24,
     "metadata": {},
     "output_type": "execute_result"
    }
   ],
   "source": [
    "np.std(x)"
   ]
  },
  {
   "cell_type": "code",
   "execution_count": 15,
   "metadata": {},
   "outputs": [
    {
     "data": {
      "text/plain": [
       "array([[29, 75],\n",
       "       [55, 58],\n",
       "       [ 2, 70],\n",
       "       [94, 75],\n",
       "       [45, 97],\n",
       "       [57, 64],\n",
       "       [69, 72],\n",
       "       [69, 53],\n",
       "       [ 3, 34],\n",
       "       [71, 22],\n",
       "       [91, 94],\n",
       "       [23, 58],\n",
       "       [25,  6],\n",
       "       [44, 60],\n",
       "       [13, 78],\n",
       "       [39, 51],\n",
       "       [46, 83],\n",
       "       [14, 82],\n",
       "       [34, 32],\n",
       "       [43, 36],\n",
       "       [48,  6],\n",
       "       [81, 83],\n",
       "       [45, 95],\n",
       "       [43, 54],\n",
       "       [20, 24],\n",
       "       [79, 95],\n",
       "       [30, 82],\n",
       "       [78, 74],\n",
       "       [45, 70],\n",
       "       [57, 46],\n",
       "       [90, 15],\n",
       "       [38, 86],\n",
       "       [28, 93],\n",
       "       [25, 32],\n",
       "       [29, 91],\n",
       "       [37, 46],\n",
       "       [92, 93],\n",
       "       [45, 69],\n",
       "       [72, 51],\n",
       "       [69, 20],\n",
       "       [34, 16],\n",
       "       [79, 92],\n",
       "       [95, 42],\n",
       "       [49, 56],\n",
       "       [ 8, 57],\n",
       "       [69, 20],\n",
       "       [43, 84],\n",
       "       [20,  6],\n",
       "       [17,  1],\n",
       "       [53, 80]])"
      ]
     },
     "execution_count": 15,
     "metadata": {},
     "output_type": "execute_result"
    }
   ],
   "source": [
    "#对于矩阵, 注意矩阵的数据类型不能改变， 必要时可以强制转换一下数据类型\n",
    "#在实际数据集中，肯定是矩阵，因为一个样本不可能只有一个特征\n",
    "X = np.random.randint(0,100,size=(50,2))\n",
    "X"
   ]
  },
  {
   "cell_type": "code",
   "execution_count": 19,
   "metadata": {},
   "outputs": [
    {
     "data": {
      "text/plain": [
       "array([[0, 0],\n",
       "       [0, 0],\n",
       "       [0, 0],\n",
       "       [0, 0],\n",
       "       [0, 1],\n",
       "       [0, 0],\n",
       "       [0, 0],\n",
       "       [0, 0],\n",
       "       [0, 0],\n",
       "       [0, 0],\n",
       "       [0, 0],\n",
       "       [0, 0],\n",
       "       [0, 0],\n",
       "       [0, 0],\n",
       "       [0, 0],\n",
       "       [0, 0],\n",
       "       [0, 0],\n",
       "       [0, 0],\n",
       "       [0, 0],\n",
       "       [0, 0],\n",
       "       [0, 0],\n",
       "       [0, 0],\n",
       "       [0, 0],\n",
       "       [0, 0],\n",
       "       [0, 0],\n",
       "       [0, 0],\n",
       "       [0, 0],\n",
       "       [0, 0],\n",
       "       [0, 0],\n",
       "       [0, 0],\n",
       "       [0, 0],\n",
       "       [0, 0],\n",
       "       [0, 0],\n",
       "       [0, 0],\n",
       "       [0, 0],\n",
       "       [0, 0],\n",
       "       [0, 0],\n",
       "       [0, 0],\n",
       "       [0, 0],\n",
       "       [0, 0],\n",
       "       [0, 0],\n",
       "       [0, 0],\n",
       "       [1, 0],\n",
       "       [0, 0],\n",
       "       [0, 0],\n",
       "       [0, 0],\n",
       "       [0, 0],\n",
       "       [0, 0],\n",
       "       [0, 0],\n",
       "       [0, 0]])"
      ]
     },
     "execution_count": 19,
     "metadata": {},
     "output_type": "execute_result"
    }
   ],
   "source": [
    "#需要按列进行最值归一化\n",
    "X[:,0] = (X[:,0] - np.min(X[:,0]))/(np.max(X[:,0])-np.min(X[:,0]))\n",
    "X[:,1] = (X[:,1] - np.min(X[:,1]))/(np.max(X[:,1])-np.min(X[:,1]))\n",
    "X"
   ]
  },
  {
   "cell_type": "code",
   "execution_count": 22,
   "metadata": {},
   "outputs": [
    {
     "data": {
      "text/plain": [
       "array([[0.91666667, 0.10204082],\n",
       "       [0.82291667, 0.95918367],\n",
       "       [0.6875    , 0.75510204],\n",
       "       [0.96875   , 0.57142857],\n",
       "       [0.34375   , 0.42857143],\n",
       "       [0.60416667, 0.03061224],\n",
       "       [0.17708333, 0.08163265],\n",
       "       [0.96875   , 0.25510204],\n",
       "       [0.0625    , 0.10204082],\n",
       "       [0.23958333, 0.51020408],\n",
       "       [0.46875   , 0.20408163],\n",
       "       [0.28125   , 0.78571429],\n",
       "       [0.375     , 0.33673469],\n",
       "       [0.39583333, 1.        ],\n",
       "       [0.10416667, 0.69387755],\n",
       "       [0.63541667, 0.39795918],\n",
       "       [0.83333333, 0.28571429],\n",
       "       [0.97916667, 0.84693878],\n",
       "       [0.78125   , 0.59183673],\n",
       "       [0.48958333, 0.55102041],\n",
       "       [0.01041667, 0.97959184],\n",
       "       [0.61458333, 0.43877551],\n",
       "       [0.36458333, 0.19387755],\n",
       "       [0.4375    , 0.34693878],\n",
       "       [0.27083333, 0.17346939],\n",
       "       [0.30208333, 0.64285714],\n",
       "       [0.03125   , 1.        ],\n",
       "       [0.82291667, 0.76530612],\n",
       "       [0.28125   , 0.62244898],\n",
       "       [0.45833333, 0.66326531],\n",
       "       [0.5       , 0.2244898 ],\n",
       "       [0.625     , 0.82653061],\n",
       "       [0.92708333, 0.16326531],\n",
       "       [0.96875   , 0.09183673],\n",
       "       [0.86458333, 0.94897959],\n",
       "       [0.82291667, 0.53061224],\n",
       "       [0.42708333, 0.65306122],\n",
       "       [0.71875   , 0.8877551 ],\n",
       "       [0.0625    , 0.48979592],\n",
       "       [0.42708333, 0.28571429],\n",
       "       [0.67708333, 0.55102041],\n",
       "       [0.46875   , 0.59183673],\n",
       "       [1.        , 0.15306122],\n",
       "       [0.76041667, 0.10204082],\n",
       "       [0.        , 0.40816327],\n",
       "       [0.5625    , 0.1122449 ],\n",
       "       [0.66666667, 0.83673469],\n",
       "       [0.77083333, 0.02040816],\n",
       "       [0.96875   , 0.        ],\n",
       "       [0.91666667, 0.53061224]])"
      ]
     },
     "execution_count": 22,
     "metadata": {},
     "output_type": "execute_result"
    }
   ],
   "source": [
    "#此时,最值归一化之后，不是0,就是1,因为矩阵才开始的数据类型是int，所以计算出来的小数被强制的转换成了int.\n",
    "# 故,要提前强制改变矩阵X的数值类型\n",
    "X = np.random.randint(0,100,size=(50,2))\n",
    "X = np.array(X,dtype = float)\n",
    "X[:,0] = (X[:,0] - np.min(X[:,0]))/(np.max(X[:,0])-np.min(X[:,0]))\n",
    "X[:,1] = (X[:,1] - np.min(X[:,1]))/(np.max(X[:,1])-np.min(X[:,1]))\n",
    "X"
   ]
  },
  {
   "cell_type": "code",
   "execution_count": 25,
   "metadata": {},
   "outputs": [
    {
     "data": {
      "text/plain": [
       "0.5158907312925171"
      ]
     },
     "execution_count": 25,
     "metadata": {},
     "output_type": "execute_result"
    }
   ],
   "source": [
    "np.mean(X)"
   ]
  },
  {
   "cell_type": "code",
   "execution_count": 26,
   "metadata": {},
   "outputs": [
    {
     "data": {
      "text/plain": [
       "0.3006185258911522"
      ]
     },
     "execution_count": 26,
     "metadata": {},
     "output_type": "execute_result"
    }
   ],
   "source": [
    "np.std(X)"
   ]
  },
  {
   "cell_type": "code",
   "execution_count": 35,
   "metadata": {},
   "outputs": [
    {
     "data": {
      "text/plain": [
       "<matplotlib.collections.PathCollection at 0x7f6b3c3517b8>"
      ]
     },
     "execution_count": 35,
     "metadata": {},
     "output_type": "execute_result"
    },
    {
     "data": {
      "image/png": "[encoded data removed]",
      "text/plain": [
       "<matplotlib.figure.Figure at 0x7f6b3fbbb7f0>"
      ]
     },
     "metadata": {},
     "output_type": "display_data"
    }
   ],
   "source": [
    "import matplotlib.pyplot as plt\n",
    "plt.scatter(X[:,0],X[:,1])"
   ]
  },
  {
   "cell_type": "markdown",
   "metadata": {},
   "source": [
    "# 均值方差归一化(类似与将数据化成均值为1,方差为0)"
   ]
  },
  {
   "cell_type": "code",
   "execution_count": 36,
   "metadata": {},
   "outputs": [
    {
     "data": {
      "text/plain": [
       "array([ 0.39172792,  0.10262983,  1.62039485, -1.1260371 , -1.05376257,\n",
       "       -0.76466447,  1.29515949, -1.63195877, -0.04191922, -1.30672341,\n",
       "        0.71696329,  0.71696329, -0.40329185, -0.07805649, -0.58397816,\n",
       "       -0.94535079,  0.93378686, -0.58397816, -0.36715459, -0.836939  ,\n",
       "        0.96992412, -1.88491961,  0.86151234, -1.30672341, -1.37899793,\n",
       "       -0.33101732, -0.62011542, -0.18646827,  0.50013971,  0.78923781,\n",
       "        0.78923781,  1.33129675,  0.06649256,  1.25902222,  0.57241424,\n",
       "       -0.836939  , -0.36715459,  0.96992412, -1.19831162,  1.25902222,\n",
       "       -1.16217436, -0.51170364, -0.65625269, -1.55968425, -1.77650782,\n",
       "        1.58425758,  1.1867477 ,  1.25902222,  0.0303553 ,  0.06649256,\n",
       "        1.4758458 , -1.52354698, -1.4151352 ,  1.29515949,  1.1867477 ,\n",
       "       -0.58397816, -1.27058615,  1.62039485,  0.28331614, -1.77650782,\n",
       "       -0.40329185, -0.15033101, -0.22260554,  1.62039485,  0.42786519,\n",
       "        0.24717887, -0.18646827,  1.07833591,  0.06649256, -0.65625269,\n",
       "        0.13876709, -0.04191922,  1.15061044,  1.04219865,  0.68082602,\n",
       "       -0.07805649, -0.80080174, -1.88491961,  0.71696329,  0.96992412,\n",
       "        0.86151234, -0.40329185,  1.40357127,  0.06649256, -1.66809603,\n",
       "        1.40357127, -0.836939  ,  1.54812032, -0.40329185,  1.1867477 ,\n",
       "        1.04219865, -1.63195877, -1.01762531, -0.87307626,  1.00606139,\n",
       "        0.50013971,  0.3194534 , -0.33101732,  0.13876709, -1.08989983])"
      ]
     },
     "execution_count": 36,
     "metadata": {},
     "output_type": "execute_result"
    }
   ],
   "source": [
    "#对于\n",
    "x = np.random.randint(0,100,size = 100)\n",
    "x = (x-np.mean(x))/np.std(x)\n",
    "x"
   ]
  },
  {
   "cell_type": "code",
   "execution_count": 37,
   "metadata": {},
   "outputs": [
    {
     "data": {
      "text/plain": [
       "1.3322676295501878e-16"
      ]
     },
     "execution_count": 37,
     "metadata": {},
     "output_type": "execute_result"
    }
   ],
   "source": [
    "np.mean(x)"
   ]
  },
  {
   "cell_type": "code",
   "execution_count": 38,
   "metadata": {},
   "outputs": [
    {
     "data": {
      "text/plain": [
       "1.0"
      ]
     },
     "execution_count": 38,
     "metadata": {},
     "output_type": "execute_result"
    }
   ],
   "source": [
    "np.std(x)"
   ]
  },
  {
   "cell_type": "code",
   "execution_count": 39,
   "metadata": {},
   "outputs": [
    {
     "data": {
      "text/plain": [
       "array([[ 0.60942006,  0.58651558],\n",
       "       [-0.01094767,  1.5381935 ],\n",
       "       [ 0.13502121, -1.17585095],\n",
       "       [-1.10571424,  1.04473088],\n",
       "       [ 1.77717107,  0.48077359],\n",
       "       [-0.92325314, -0.64714099],\n",
       "       [ 0.53643562,  1.46769884],\n",
       "       [ 0.24449787, -0.50615167],\n",
       "       [-1.25168311,  1.39720418],\n",
       "       [-0.66780761,  0.55126825],\n",
       "       [-1.10571424,  1.57344083],\n",
       "       [-0.12042432, -0.92911963],\n",
       "       [-0.22990098,  1.57344083],\n",
       "       [ 0.39046674,  0.69225757],\n",
       "       [-0.37586986, -0.11843103],\n",
       "       [ 1.48523331, -1.52832425],\n",
       "       [ 0.71889671,  1.50294617],\n",
       "       [-1.7990664 , -1.49307692],\n",
       "       [-1.43414421,  1.29146219],\n",
       "       [-0.52183873,  1.64393549],\n",
       "       [ 1.19329556,  0.7275049 ],\n",
       "       [ 1.55821775, -1.38733493],\n",
       "       [-1.76257418, -0.99961429],\n",
       "       [ 1.0838189 , -0.61189366],\n",
       "       [-0.74079205, -0.96436696],\n",
       "       [ 0.35397452, -0.47090434],\n",
       "       [-1.17869867,  0.44552626],\n",
       "       [-1.0327298 , -1.38733493],\n",
       "       [ 1.63120219, -0.61189366],\n",
       "       [-0.30288542,  0.19879494],\n",
       "       [ 0.57292784,  0.41027893],\n",
       "       [-1.0327298 ,  0.3750316 ],\n",
       "       [-0.15691654, -1.31684027],\n",
       "       [ 0.4999434 ,  0.30453694],\n",
       "       [ 1.37575666,  0.2692896 ],\n",
       "       [ 0.06203677,  0.55126825],\n",
       "       [-0.8502687 , -0.15367836],\n",
       "       [-1.7990664 , -0.01268904],\n",
       "       [-0.95974536, -1.31684027],\n",
       "       [-0.74079205,  1.32670952],\n",
       "       [ 1.12031112, -1.31684027],\n",
       "       [ 0.60942006,  0.12830028],\n",
       "       [-0.37586986,  0.79799956],\n",
       "       [ 0.86486559, -1.28159294],\n",
       "       [ 1.52172553, -1.03486162],\n",
       "       [ 0.46345118,  0.51602092],\n",
       "       [ 0.71889671, -1.45782959],\n",
       "       [-0.81377648,  0.48077359],\n",
       "       [ 1.70418663, -0.40040967],\n",
       "       [ 0.06203677, -0.75288298]])"
      ]
     },
     "execution_count": 39,
     "metadata": {},
     "output_type": "execute_result"
    }
   ],
   "source": [
    "# 对于矩阵\n",
    "X = np.random.randint(0,100,size=(50,2))\n",
    "X = np.array(X,dtype = float)\n",
    "X[:,0] = (X[:,0] - np.mean(X[:,0]))/np.std(X[:,0])\n",
    "X[:,1] = (X[:,1] - np.mean(X[:,1]))/np.std(X[:,1])\n",
    "X"
   ]
  },
  {
   "cell_type": "code",
   "execution_count": 40,
   "metadata": {},
   "outputs": [
    {
     "data": {
      "text/plain": [
       "5.662137425588298e-17"
      ]
     },
     "execution_count": 40,
     "metadata": {},
     "output_type": "execute_result"
    }
   ],
   "source": [
    "np.mean(X)"
   ]
  },
  {
   "cell_type": "code",
   "execution_count": 41,
   "metadata": {},
   "outputs": [
    {
     "data": {
      "text/plain": [
       "1.0"
      ]
     },
     "execution_count": 41,
     "metadata": {},
     "output_type": "execute_result"
    }
   ],
   "source": [
    "np.std(X)"
   ]
  },
  {
   "cell_type": "code",
   "execution_count": 42,
   "metadata": {},
   "outputs": [
    {
     "data": {
      "text/plain": [
       "<matplotlib.collections.PathCollection at 0x7f6b3c19ccf8>"
      ]
     },
     "execution_count": 42,
     "metadata": {},
     "output_type": "execute_result"
    },
    {
     "data": {
      "image/png": "[encoded data removed]",
      "text/plain": [
       "<matplotlib.figure.Figure at 0x7f6b34f36be0>"
      ]
     },
     "metadata": {},
     "output_type": "display_data"
    }
   ],
   "source": [
    "plt.scatter(X[:,0],X[:,1])"
   ]
  },
  {
   "cell_type": "markdown",
   "metadata": {},
   "source": []
  }
 ],
 "metadata": {
  "kernelspec": {
   "display_name": "Python 3",
   "language": "python",
   "name": "python3"
  },
  "language_info": {
   "codemirror_mode": {
    "name": "ipython",
    "version": 3
   },
   "file_extension": ".py",
   "mimetype": "text/x-python",
   "name": "python",
   "nbconvert_exporter": "python",
   "pygments_lexer": "ipython3",
   "version": "3.6.4"
  }
 },
 "nbformat": 4,
 "nbformat_minor": 2
}
